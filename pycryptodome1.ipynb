{
  "nbformat": 4,
  "nbformat_minor": 0,
  "metadata": {
    "colab": {
      "provenance": [],
      "include_colab_link": true
    },
    "kernelspec": {
      "name": "python3",
      "display_name": "Python 3"
    },
    "language_info": {
      "name": "python"
    }
  },
  "cells": [
    {
      "cell_type": "markdown",
      "metadata": {
        "id": "view-in-github",
        "colab_type": "text"
      },
      "source": [
        "<a href=\"https://colab.research.google.com/github/MithunSrinivas28/Spoon-Knife/blob/main/pycryptodome1.ipynb\" target=\"_parent\"><img src=\"https://colab.research.google.com/assets/colab-badge.svg\" alt=\"Open In Colab\"/></a>"
      ]
    },
    {
      "cell_type": "code",
      "execution_count": null,
      "metadata": {
        "colab": {
          "base_uri": "https://localhost:8080/"
        },
        "id": "SVthbsWaNXbi",
        "outputId": "560dfe0a-0ac0-4eb1-864d-fbe1b02822ef"
      },
      "outputs": [
        {
          "output_type": "stream",
          "name": "stdout",
          "text": [
            "Collecting pycryptodome\n",
            "  Downloading pycryptodome-3.20.0-cp35-abi3-manylinux_2_17_x86_64.manylinux2014_x86_64.whl.metadata (3.4 kB)\n",
            "Downloading pycryptodome-3.20.0-cp35-abi3-manylinux_2_17_x86_64.manylinux2014_x86_64.whl (2.1 MB)\n",
            "\u001b[2K   \u001b[90m━━━━━━━━━━━━━━━━━━━━━━━━━━━━━━━━━━━━━━━━\u001b[0m \u001b[32m2.1/2.1 MB\u001b[0m \u001b[31m17.8 MB/s\u001b[0m eta \u001b[36m0:00:00\u001b[0m\n",
            "\u001b[?25hInstalling collected packages: pycryptodome\n",
            "Successfully installed pycryptodome-3.20.0\n"
          ]
        }
      ],
      "source": [
        "!pip install pycryptodome"
      ]
    },
    {
      "cell_type": "markdown",
      "source": [
        "# Key terms in encryption\n",
        "\n",
        "1. Plaintext\n",
        "The original, readable message or data before it's encrypted.\n",
        "Example: \"Hello, World!\" is plaintext.\n",
        "\n",
        "2. Cipher\n",
        "A method or algorithm used to change (encrypt) plaintext into unreadable text (ciphertext).\n",
        "Example: AES is a cipher used to encrypt data.\n",
        "\n",
        "3. Ciphertext\n",
        "The scrambled, unreadable version of the plaintext after it has been encrypted.\n",
        "Example: \"f83e12ab\" is an example of ciphertext (the encrypted form of the message).\n",
        "\n",
        "4. Encryption\n",
        "The process of converting plaintext into ciphertext using a cipher and a key, making it unreadable to unauthorized people.\n",
        "Example: You encrypt your email password so only you can access it.\n",
        "\n",
        "5. Decryption\n",
        "The reverse of encryption: turning ciphertext back into readable plaintext using a key.\n",
        "Example: When you log in, your password is decrypted for the system to verify.\n",
        "\n",
        "6. Key\n",
        "A secret piece of information used with a cipher to encrypt or decrypt a message. If you don’t have the key, you can’t unlock (decrypt) the message.\n",
        "Example: A password is often used as a key in encryption.\n",
        "\n",
        "7. Symmetric Encryption\n",
        "Encryption where the same key is used to both encrypt and decrypt the data.\n",
        "Example: AES is a symmetric cipher because the same key is used for both encrypting and decrypting.\n",
        "\n",
        "8. Asymmetric Encryption\n",
        "Encryption where two keys are used: one key (public) to encrypt the data, and a different key (private) to decrypt it.\n",
        "Example: RSA is an asymmetric encryption method.\n",
        "\n",
        "9. Cipher object\n",
        "A cipher object is an instance of a cryptographic algorithm that allows for the encryption and decryption of data using a specific key and mode of operation."
      ],
      "metadata": {
        "id": "zzSC5bgnRjTR"
      }
    },
    {
      "cell_type": "code",
      "source": [
        "from Crypto.Cipher import AES\n",
        "from Crypto.Random import get_random_bytes\n",
        "from Crypto.Util.Padding import pad, unpad\n",
        "import base64\n",
        "import os"
      ],
      "metadata": {
        "id": "UF693w2bNeLk"
      },
      "execution_count": null,
      "outputs": []
    },
    {
      "cell_type": "code",
      "source": [
        "key = get_random_bytes(32) # 32 bytes * 8 = 256 bits (1 byte = 8 bits)\n",
        "print(key)"
      ],
      "metadata": {
        "colab": {
          "base_uri": "https://localhost:8080/"
        },
        "id": "mhF5LMPN4bg6",
        "outputId": "790df53d-bbef-4f44-fae6-c200df34ea8d"
      },
      "execution_count": null,
      "outputs": [
        {
          "output_type": "stream",
          "name": "stdout",
          "text": [
            "b'\\xca\\xd6\"\\x1c\\xdb\\xa2\\xceZ>\\x0b\\xca\\xf9\\xfd\\xc0\\x97?{\\x97\\x1a\\x90\\x08\\x96\\xda=\\xd2-(;\\x98\\x82\\xa0\\xf6'\n"
          ]
        }
      ]
    },
    {
      "cell_type": "markdown",
      "source": [
        "# AES\n",
        "\n",
        "AES (Advanced Encryption Standard) is a widely-used encryption algorithm that securely transforms plain text into unreadable data using a secret key. It is known for being fast and secure, often used to protect sensitive information like passwords and financial data.\n",
        "\n",
        "\n",
        "AES works by breaking the plain text (your original message) into fixed-size blocks (usually 16 bytes) and applying multiple rounds of transformations using a secret key. These transformations involve substituting bytes, shifting rows, mixing columns, and adding the key to scramble the data. After all the rounds, the result is encrypted text (ciphertext), which looks random and unreadable. To decrypt, the same process is reversed using the same key to retrieve the original message."
      ],
      "metadata": {
        "id": "_fFlgS414xez"
      }
    },
    {
      "cell_type": "markdown",
      "source": [
        "# AES:"
      ],
      "metadata": {
        "id": "H4nrX3aZBJsT"
      }
    },
    {
      "cell_type": "code",
      "source": [
        "\n",
        "key = os.urandom(16)  # Generates a random key of 16 bytes\n",
        "cipher = AES.new(key, AES.MODE_ECB)   #cipher object\n",
        "\n",
        "def encrypt(plain_text):\n",
        "    # Pad the plain text to be a multiple of 16 bytes\n",
        "    padded_text = pad(plain_text.encode(), AES.block_size)\n",
        "    # Encrypt the padded text\n",
        "    encrypted_text = cipher.encrypt(padded_text)\n",
        "    return encrypted_text\n",
        "\n",
        "def decrypt(encrypted_text):\n",
        "    # Decrypt the text\n",
        "    decrypted_text = cipher.decrypt(encrypted_text)\n",
        "    # Unpad the decrypted text\n",
        "    unpadded_text = unpad(decrypted_text, AES.block_size)\n",
        "    return unpadded_text.decode()\n",
        "\n",
        "if __name__ == \"__main__\":\n",
        "    original_text = \"very very secret message\"\n",
        "    print(\"Original text:\", original_text)\n",
        "\n",
        "    print(\"key : \",key)\n",
        "    encrypted = encrypt(original_text)\n",
        "    print(\"Encrypted:\", encrypted)\n",
        "\n",
        "    decrypted = decrypt(encrypted)\n",
        "    print(\"Decrypted:\", decrypted)"
      ],
      "metadata": {
        "colab": {
          "base_uri": "https://localhost:8080/"
        },
        "id": "4Bvg_fH_BMGI",
        "outputId": "c0246fda-91ab-4935-ce32-f915905621eb"
      },
      "execution_count": null,
      "outputs": [
        {
          "output_type": "stream",
          "name": "stdout",
          "text": [
            "Original text: very very secret message\n",
            "key :  b'\\xcfn\\x8c\\x80\\x7f\\x96\\xb5a\\xf2\\xa7\\xdc\\x12\\xc1(xZ'\n",
            "Encrypted: b'&\\xd1\\x8e\\x00C\\x7f\\x87dS\\xbb&\\xb2\\x91\\xf9W\\x83;Q\\xbaS\\x8f\\x89\\xdc\\xe4\\x00m\\xca&\\xccQ\\x8b\\x81'\n",
            "Decrypted: very very secret message\n"
          ]
        }
      ]
    },
    {
      "cell_type": "markdown",
      "source": [
        "# Assymmetric encryption:\n",
        "\n",
        "\n",
        "Asymmetric encryption, also known as public-key cryptography, involves the use of two distinct but mathematically related keys: a public key and a private key.\n",
        "\n",
        "## Key Pair:\n",
        "\n",
        "The public key is shared openly and can be distributed to anyone who wants to send secure messages.\n",
        "\n",
        "The private key is kept secret by the owner and is used to decrypt messages encrypted with the corresponding public key.\n",
        "\n",
        "\n",
        "## Encryption Process:\n",
        "When someone wants to send a confidential message, they use the recipient's public key to encrypt the message.\n",
        "\n",
        "This ensures that only the recipient, who possesses the corresponding private key, can decrypt and read the message.\n",
        "\n",
        "## Decryption Process:\n",
        "\n",
        "The recipient uses their private key to decrypt the message.\n",
        "\n",
        "Since only the recipient has access to the private key, only they can access the original plaintext message.\n",
        "\n"
      ],
      "metadata": {
        "id": "9d4U2Ws_CcG7"
      }
    },
    {
      "cell_type": "markdown",
      "source": [
        "# RSA assymmetric encryption :\n",
        "RSA (Rivest–Shamir–Adleman) is a public-key cryptosystem, one of the oldest widely used for secure data transmission.\n"
      ],
      "metadata": {
        "id": "JCs6-aaiDKgR"
      }
    },
    {
      "cell_type": "code",
      "source": [
        "from Crypto.PublicKey import RSA\n",
        "from Crypto.Cipher import PKCS1_OAEP"
      ],
      "metadata": {
        "id": "Zk4-xt95DRtW"
      },
      "execution_count": null,
      "outputs": []
    },
    {
      "cell_type": "code",
      "source": [
        "# Generate key pairs for the receiver\n",
        "receiver_key = RSA.generate(2048)\n",
        "receiver_private_key = receiver_key.export_key()\n",
        "receiver_public_key = receiver_key.publickey().export_key()\n",
        "\n",
        "# Generate key pairs for the sender\n",
        "sender_key = RSA.generate(2048)\n",
        "sender_private_key = sender_key.export_key()\n",
        "sender_public_key = sender_key.publickey().export_key()\n"
      ],
      "metadata": {
        "id": "bAs4FX90FidL"
      },
      "execution_count": null,
      "outputs": []
    },
    {
      "cell_type": "code",
      "source": [
        "def encrypt(plain_text, pub_key):\n",
        "    cipher = PKCS1_OAEP.new(RSA.import_key(pub_key))             #cipher object with OAEP (Optimal Asymmetric Encryption Padding) for secure encryption.\n",
        "    encrypted_text = cipher.encrypt(plain_text.encode())           #  Imports the public key to create a usable key object.\n",
        "    return encrypted_text\n",
        "\n",
        "def decrypt(encrypted_text, priv_key):\n",
        "    cipher = PKCS1_OAEP.new(RSA.import_key(priv_key))\n",
        "    decrypted_text = cipher.decrypt(encrypted_text)\n",
        "    return decrypted_text.decode()\n"
      ],
      "metadata": {
        "id": "prG1KxWGE0ye"
      },
      "execution_count": null,
      "outputs": []
    },
    {
      "cell_type": "code",
      "source": [
        "if __name__ == \"__main__\":\n",
        "    original_text = \"very very secret message\"\n",
        "    print(\"Original text:\", original_text)\n",
        "\n",
        "    # Sender encrypts the message using the receiver's public key\n",
        "    encrypted = encrypt(original_text, receiver_public_key)\n",
        "    print(\"Encrypted:\", encrypted)\n",
        "\n",
        "    # Receiver decrypts the message using their private key\n",
        "    decrypted = decrypt(encrypted, receiver_private_key)\n",
        "    print(\"Decrypted:\", decrypted)\n",
        "\n",
        "    # The sender can also send a signed message using their private key\n",
        "    signed_message = encrypt(original_text, sender_private_key)  # Simulating signing\n",
        "    print(\"Signed (encrypted with sender's private key):\", signed_message)\n",
        "\n",
        "    # Receiver can verify the signed message using the sender's public key\n",
        "    verified_message = decrypt(signed_message, sender_private_key)  # Simulating verification\n",
        "    print(\"Verified (decrypted with sender's public key):\", verified_message)\n"
      ],
      "metadata": {
        "colab": {
          "base_uri": "https://localhost:8080/"
        },
        "id": "dxg3X0gdGU-m",
        "outputId": "ca61b897-ae45-4405-f795-34d9f513b364"
      },
      "execution_count": null,
      "outputs": [
        {
          "output_type": "stream",
          "name": "stdout",
          "text": [
            "Original text: very very secret message\n",
            "Encrypted: b'D:>\\xf9\\xe4[\\xae\\x0f\\xdd,&x\\x88\\x84\\xb7\\xcf\\x07a\\x06\\xdb\\xfb\\xd1\\x8dx\\x8c&m\\x11!\\xcb\\xf0\\'\\x1d\\\\\\xff\\xcem\\xd6l\\x8d\\xce\\xc6\\xc2\\xaa<4:\\xc5}\\xc5\\x8aiw8\\xd1\\x1di#\\x11\\xab\\xef{\\xf3\\x10\\x85\\xbc\\xc8\\x88\\'\\x19\\xf9\\r\\xe4\\x12\\x9b73\\x0b:\\xb1{\\t\\r\\xaf\\r\\xc5M\\x96\\xf0n$\\xd41\\xd3\\xdd\\xc5\\x1c\\xde\\xd2\\x89\\xbe\\xcd\\xb8\\x0b\\x9b\\xecv!\\xca\\xbe\\xff@a\\xbb\\xbc\\xcfF!\\x05+ \\x1a\\xddi\\xf1\\xe7/vN\\x88m\\xcd\\x826\\xe0\\x0c&]\\x13\\xde2\\x8b\\x7f\\x13\\r\\xb6\\xbb\\x9a@\\x07\\xe2e\\x7f\\x9f\\x0f\"\\xfc\\xe3\\x0f\\x02\\x19\\x93\\xa9<\\xc3\\xf6E\\xa0\\x94\\xf8\\xfd\\xd2\\x08\\xb6v=m\\x9f%3D\\xf6\\xc6\\'\\x9e\\xe4C\\xac|D\\x92\\xfb\\xbf\\xa8\\xd6@\\x17S\\xa0?\\x0f\\xb4^\\x00\\x136\\xbf3\\xc31\\xf1G\\x89\\xe1\\xb1]\\xc8&C\\x1db(8\\xeb\\xac\\x95RrG\\xa5\\x8b\\xf7&\\x9a\\x84-P=\\xc7\\x1f\\xb08\\xda_\\xae\\xee\\xb7.\\x8a\\xb7l0\\x1f\\x1f\\x83\\xc7'\n",
            "Decrypted: very very secret message\n",
            "Signed (encrypted with sender's private key): b\"Mq\\x05\\x9f\\x08\\xc8)E\\xd4X\\x8c\\x01\\xbcD21Tm/|m\\xa5w\\xb2\\x92\\xf4\\x9a^Sp\\xd5\\xae\\x90\\x8f\\\\\\x7fj\\x0e\\x06\\n\\xbf\\x82\\xea\\x93\\x9f\\xa2{\\x9f7\\xf3\\x81c\\x9b\\x07~\\\\\\x8eI\\xeb\\xd6\\x81v\\xfd1\\xb0\\x05|\\xcd\\xcam\\xea\\xa0\\x07\\x9a\\xf9\\xc97@\\xd9\\xe1\\xfaL`\\xd2?\\xb2]\\x8b\\xd3\\x89\\x1a\\x87\\xcb\\xb6\\xc7\\xd8s99\\xc5\\x8f0\\x03A1\\x07S\\xfe4w\\x80~\\xf2\\xe9\\x8d\\x05H\\x81\\xfc\\xfeo+\\x90\\xcc\\xda\\xbb\\x01q\\xf9y\\xa5>B\\x0cM\\xdf\\xf8\\x99\\xddc\\x10\\xfco\\xdc\\xef\\x89\\xfdP*\\\\\\xc7XD\\x8e\\xe9A\\xac\\xa3\\x93\\xa0\\xf1F'\\xe0v\\x90\\t\\x9f\\xafW\\xbb\\xabx\\xc3hr\\x97\\xcd\\xf3\\xbcJ\\xb3\\x8a\\xd1\\x8d\\xa0\\x0e\\x0e\\xbchF\\xa3\\x8aq\\xb2\\x96F\\xf7\\x9f\\x87\\xfb\\x86\\x03G\\x1aA\\x9a\\x84\\xa3\\x87/\\x01\\xcd\\xd1\\x12\\x19; \\x10C\\x8c)\\x99HN\\xbd\\x1e\\xe2%\\xeb\\xc2\\xabW\\x07\\x861\\x91@\\xd81\\xce6\\xce\\xd9\\xeb(\\x8eA:\\x85\\x1dU\\xbd\\x9a\\nt\"\n",
            "Verified (decrypted with sender's public key): very very secret message\n"
          ]
        }
      ]
    },
    {
      "cell_type": "markdown",
      "source": [
        "# PBKDF2\n",
        "\n",
        "PBKDF2 (Password-Based Key Derivation Function 2) is a cryptographic function used to derive a strong encryption key from a weak password. It strengthens the password through:\n",
        "\n",
        "Salting: A random value (salt) is added to the password to ensure that even identical passwords generate different keys.\n",
        "Iterations: The hashing process is repeated many times, making brute-force attacks more difficult by increasing computational cost.\n",
        "\n",
        "Hashing: It uses a cryptographic hash function (e.g., SHA-256), which is one-way and irreversible, making it impossible to reverse-engineer the password from the derived key."
      ],
      "metadata": {
        "id": "sp-qMdH4AWvv"
      }
    },
    {
      "cell_type": "code",
      "source": [
        "from Crypto.Protocol.KDF import PBKDF2\n",
        "\n",
        "salt = get_random_bytes(32)\n",
        "password = 'password123' # Password provided by the user, can use input() to get this\n",
        "\n",
        "key = PBKDF2(password, salt, dkLen=32) # we get here the key we can encrypt with ini AES"
      ],
      "metadata": {
        "id": "O9Qi7IvtBgdg"
      },
      "execution_count": null,
      "outputs": []
    },
    {
      "cell_type": "code",
      "source": [
        "print(salt)\n",
        "print(key)"
      ],
      "metadata": {
        "colab": {
          "base_uri": "https://localhost:8080/"
        },
        "id": "X87Gdng7B6Sl",
        "outputId": "751066a3-caf8-4528-c7ce-ad6818f29b1f"
      },
      "execution_count": null,
      "outputs": [
        {
          "output_type": "stream",
          "name": "stdout",
          "text": [
            "b'\\xa39\\xd9\\xdd\\x9d\\xc4W\\xc4\\xe50l\\xad2\\xac\\xcd\\xa04U\\xe3g\\xd3P\\xb9\\x85=.A\\x14a\\xa2\\xcd\\x13'\n",
            "b'\\xf9\\xb4y\\xb0ryt\\xe9\\x97\\x07\\x15q\\xbe1\\x82\\rw\\xc1-u\\xccb\\x11\\xfb\\xf2TGtiy\\x9d\\xd2'\n"
          ]
        }
      ]
    },
    {
      "cell_type": "markdown",
      "source": [
        "## Summary Flow:\n",
        "\n",
        "## On Account Creation:\n",
        "\n",
        "- User provides a password.\n",
        "- PBKDF2 is used to derive a key (with salt and iterations).\n",
        "- Store the salt, hashed key, and iterations in the database.\n",
        "\n",
        "##On Login:\n",
        "- User provides their password.\n",
        "- Retrieve the salt and iterations from the database.\n",
        "- PBKDF2 is applied to the entered password to derive a new key.\n",
        "- If the new key matches the stored key, the user is authenticated.\n",
        "\n",
        "\n",
        "##For Encryption/Decryption:\n",
        "- Use the derived key with AES to encrypt or decrypt data as needed.\n",
        "\n",
        "\n",
        "##Key Points:\n",
        "- Hashing is one-way, and the original password cannot be recovered from the hash.\n",
        "- The derived key can be reused by re-running PBKDF2 with the original password, salt, and iterations.\n",
        "- The actual passwords are not stored in the database, enhancing security."
      ],
      "metadata": {
        "id": "em5Siir-DL6Q"
      }
    },
    {
      "cell_type": "markdown",
      "source": [
        "# Encypting Methods:\n",
        "\n",
        "## 1. Cipher Block Chaining\n",
        "\n",
        "CBC (Cipher Block Chaining) is a mode of encryption used with block ciphers, like AES. Here's a simple explanation:\n",
        "\n",
        "How CBC Works:\n",
        "Data is divided into blocks: The plaintext message is split into fixed-size chunks (blocks) of data.\n",
        "\n",
        "Initial vector (IV): The first block of plaintext is combined (XORed) with a random piece of data called the initialization vector (IV).\n",
        "Encryption: After combining the IV with the first block of data, it’s encrypted using the cipher (like AES).\n",
        "\n",
        "Chaining: For the next block, the previous encrypted block is combined with the new plaintext block before encrypting. This \"chains\" the blocks together.\n",
        "Key Points:\n",
        "\n",
        "IV: Adds randomness to the first block of encryption, ensuring that even if the same plaintext is encrypted twice, the ciphertext will be different.\n",
        "Chaining: Each block depends on the previous one, making it harder to tamper with individual blocks."
      ],
      "metadata": {
        "id": "s7g9YYapE137"
      }
    },
    {
      "cell_type": "code",
      "source": [
        "\n",
        "# Plaintext to be encrypted (must be a multiple of 16 bytes for AES)\n",
        "plaintext = b\"very very secret message\"   #length = 24\n",
        "\n",
        "# Generate a random 16-byte AES key\n",
        "key = get_random_bytes(16)\n",
        "\n",
        "# Generate a random 16-byte Initialization Vector (IV)\n",
        "iv = get_random_bytes(16)\n",
        "\n",
        "# Create a cipher object using AES in CBC mode\n",
        "cipher = AES.new(key, AES.MODE_CBC, iv)\n",
        "\n",
        "# Pad the plaintext if necessary (AES block size is 16 bytes)\n",
        "# You should use proper padding for real applications\n",
        "padding_length = 16 - len(plaintext) % 16        #padding length = 8\n",
        "padded_plaintext = plaintext + bytes([padding_length] * padding_length)\n",
        "\n",
        "# Encrypt the padded plaintext\n",
        "ciphertext = cipher.encrypt(padded_plaintext)\n",
        "\n",
        "# Encode to Base64 for easier display (optional)\n",
        "ciphertext_base64 = base64.b64encode(ciphertext).decode('utf-8')\n",
        "iv_base64 = base64.b64encode(iv).decode('utf-8')\n",
        "\n",
        "print(f\"Ciphertext (Base64): {ciphertext_base64}\")\n",
        "print(f\"IV (Base64): {iv_base64}\")\n",
        "\n"
      ],
      "metadata": {
        "id": "BGNLY4ZTi3py",
        "colab": {
          "base_uri": "https://localhost:8080/"
        },
        "outputId": "9db922ab-ee42-4213-dd2b-a64686331870"
      },
      "execution_count": null,
      "outputs": [
        {
          "output_type": "stream",
          "name": "stdout",
          "text": [
            "Ciphertext (Base64): IORPJMApNmNKD7/goe5vPQGoV95cGGILucMuUdDclkc=\n",
            "IV (Base64): 9Q9LzuDumbSkpzKNsNSJdw==\n"
          ]
        }
      ]
    },
    {
      "cell_type": "code",
      "source": [
        "padded_plaintext = plaintext + bytes([padding_length] * padding_length)\n",
        "print([padding_length] * padding_length)\n",
        "print(padded_plaintext)"
      ],
      "metadata": {
        "colab": {
          "base_uri": "https://localhost:8080/"
        },
        "id": "oeARSwDt6-_8",
        "outputId": "47929dcf-60be-4afa-afc9-487e983f11f3"
      },
      "execution_count": null,
      "outputs": [
        {
          "output_type": "stream",
          "name": "stdout",
          "text": [
            "[8, 8, 8, 8, 8, 8, 8, 8]\n",
            "b'very very secret message\\x08\\x08\\x08\\x08\\x08\\x08\\x08\\x08'\n"
          ]
        }
      ]
    },
    {
      "cell_type": "markdown",
      "source": [
        "## decryption"
      ],
      "metadata": {
        "id": "K3QRUglR844M"
      }
    },
    {
      "cell_type": "code",
      "source": [
        "# Decryption\n",
        "# Create a new cipher object for decryption with the same key and IV\n",
        "cipher_decrypt = AES.new(key, AES.MODE_CBC, iv)\n",
        "\n",
        "# Decrypt the ciphertext\n",
        "decrypted_padded_plaintext = cipher_decrypt.decrypt(ciphertext)\n",
        "\n",
        "# Remove the padding after decryption\n",
        "padding_length = decrypted_padded_plaintext[-1]\n",
        "decrypted_plaintext = decrypted_padded_plaintext[:-padding_length]\n",
        "\n",
        "print(f\"decrypted paded plaintext : {decrypted_padded_plaintext}\")\n",
        "print(f'decrypted plain text not decoded :{decrypted_plaintext}')\n",
        "\n",
        "print(f\"Decrypted message: {decrypted_plaintext.decode('utf-8')}\")    #conversion from byte string to human readable form"
      ],
      "metadata": {
        "colab": {
          "base_uri": "https://localhost:8080/"
        },
        "id": "3JT75Lu48BQN",
        "outputId": "9b564f67-3f7f-400f-e137-a7991dd47503"
      },
      "execution_count": null,
      "outputs": [
        {
          "output_type": "stream",
          "name": "stdout",
          "text": [
            "decrypted paded plaintext : b'very very secret message\\x08\\x08\\x08\\x08\\x08\\x08\\x08\\x08'\n",
            "decrypted plain text not decoded :b'very very secret message'\n",
            "Decrypted message: very very secret message\n"
          ]
        }
      ]
    }
  ]
}